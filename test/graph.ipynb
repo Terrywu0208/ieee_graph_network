{
 "cells": [
  {
   "cell_type": "code",
   "execution_count": 11,
   "metadata": {},
   "outputs": [],
   "source": [
    "import pandas as pd\n",
    "import networkx as nx\n",
    "import json"
   ]
  },
  {
   "cell_type": "code",
   "execution_count": 2,
   "metadata": {},
   "outputs": [],
   "source": [
    "#讀取CSV文件\n",
    "df=pd.read_csv('./social_network_essay_data.csv')\n",
    "#創建一個無向圖形\n",
    "G = nx.Graph()\n",
    "#添加節點和邊\n",
    "for _, row in df.iterrows():\n",
    "    authors = row['author'].split(';')\n",
    "    for i in range(len(authors)):\n",
    "        for j in range(i + 1, len(authors)):\n",
    "            G.add_edge(authors[i], authors[j], paper=row['title'])\n",
    "            #將圖形保存為GraphML格式\n",
    "            nx.write_graphml(G, 'authors.graphml')\n"
   ]
  },
  {
   "cell_type": "code",
   "execution_count": 44,
   "metadata": {},
   "outputs": [],
   "source": [
    "import pandas as pd\n",
    "import networkx as nx\n",
    "import json\n",
    "\n",
    "# 讀取CSV文件\n",
    "df = pd.read_csv('./social_network_essay_data_V2.csv')\n",
    "\n",
    "# 創建一個無向圖形\n",
    "G = nx.Graph()\n",
    "\n",
    "# 添加節點和邊\n",
    "for _, row in df.iterrows():\n",
    "    tmp = json.loads(row[\"reference\"])\n",
    "    ref = list(tmp.keys())  # 將 dict_keys 轉換為列表\n",
    "    for i in range(len(ref)):\n",
    "        for j in range(i + 1, len(ref)):\n",
    "            G.add_edge(ref[i], ref[j], paper=row['title'])\n",
    "\n",
    "# 將圖形保存為GraphML格式\n",
    "nx.write_graphml(G, 'ref.graphml')\n"
   ]
  }
 ],
 "metadata": {
  "kernelspec": {
   "display_name": "Python 3",
   "language": "python",
   "name": "python3"
  },
  "language_info": {
   "codemirror_mode": {
    "name": "ipython",
    "version": 3
   },
   "file_extension": ".py",
   "mimetype": "text/x-python",
   "name": "python",
   "nbconvert_exporter": "python",
   "pygments_lexer": "ipython3",
   "version": "3.9.5"
  }
 },
 "nbformat": 4,
 "nbformat_minor": 2
}
